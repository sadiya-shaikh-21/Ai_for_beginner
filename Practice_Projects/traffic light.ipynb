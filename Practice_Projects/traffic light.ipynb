{
 "cells": [
  {
   "cell_type": "code",
   "execution_count": 9,
   "metadata": {},
   "outputs": [
    {
     "name": "stdout",
     "output_type": "stream",
     "text": [
      "Be cautious light is blinking-yellow\n"
     ]
    }
   ],
   "source": [
    "from pyknow import *\n",
    "\n",
    "class Light(Fact):\n",
    "    '''info about the trafic light'''\n",
    "    pass\n",
    "\n",
    "class RobotCrossStreet(KnowledgeEngine):\n",
    "    @Rule(Light(color='green'))\n",
    "    def green_light(self):\n",
    "        print(\"walk\")\n",
    "        \n",
    "    @Rule(Light(color='red'))\n",
    "    def red_light(self):\n",
    "        print(\"Don't walk\")\n",
    "    \n",
    "    @Rule(AS.light << Light(color=L('yellow') | L('blinking-yellow')))\n",
    "    def cautious(self,light):\n",
    "        print(f\"Be cautious light is {light['color']}\")\n",
    "        \n",
    "engine = RobotCrossStreet()\n",
    "engine.reset()\n",
    "engine.declare(Light(color='blinking-yellow'))\n",
    "engine.run()"
   ]
  },
  {
   "cell_type": "markdown",
   "metadata": {},
   "source": [
    "@Rule Decorator: The @Rule decorator defines a rule. It takes a condition as an argument.\n",
    "\n",
    "AS Operator: AS.light << assigns the variable light to the Light fact that matches the condition. The << operator is used for assigning the fact to the variable.\n",
    "\n",
    "Condition: Light(color=L('yellow') | L('blinking-yellow')) is the condition that the rule is checking. It uses the L operator to match either 'yellow' or 'blinking-yellow' for the color attribute of the Light fact."
   ]
  },
  {
   "cell_type": "code",
   "execution_count": null,
   "metadata": {},
   "outputs": [],
   "source": []
  }
 ],
 "metadata": {
  "kernelspec": {
   "display_name": "Python 3",
   "language": "python",
   "name": "python3"
  },
  "language_info": {
   "codemirror_mode": {
    "name": "ipython",
    "version": 3
   },
   "file_extension": ".py",
   "mimetype": "text/x-python",
   "name": "python",
   "nbconvert_exporter": "python",
   "pygments_lexer": "ipython3",
   "version": "3.8.3"
  }
 },
 "nbformat": 4,
 "nbformat_minor": 4
}
